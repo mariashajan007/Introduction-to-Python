{
  "cells": [
    {
      "cell_type": "markdown",
      "metadata": {
        "id": "view-in-github",
        "colab_type": "text"
      },
      "source": [
        "<a href=\"https://colab.research.google.com/github/mariashajan007/Introduction-to-Python/blob/main/Untitled4.ipynb\" target=\"_parent\"><img src=\"https://colab.research.google.com/assets/colab-badge.svg\" alt=\"Open In Colab\"/></a>"
      ]
    },
    {
      "cell_type": "code",
      "execution_count": null,
      "metadata": {
        "id": "2yaJ7H6TvCRu"
      },
      "outputs": [],
      "source": [
        "def maria(x,y):\n",
        "   z=x+y\n",
        "   print(\"result=\",z)"
      ]
    },
    {
      "cell_type": "code",
      "execution_count": null,
      "metadata": {
        "colab": {
          "base_uri": "https://localhost:8080/"
        },
        "id": "XRrFue8vvdxn",
        "outputId": "689ac70c-1f5b-4fa1-f550-e8094e94ecfc"
      },
      "outputs": [
        {
          "name": "stdout",
          "output_type": "stream",
          "text": [
            "result= 11\n"
          ]
        }
      ],
      "source": [
        "maria(5,6)"
      ]
    },
    {
      "cell_type": "code",
      "execution_count": null,
      "metadata": {
        "id": "PoO1aVwZvmoa"
      },
      "outputs": [],
      "source": [
        "def maria(x,y):\n",
        "  f=x*y\n",
        "  print(\"result\",f)"
      ]
    },
    {
      "cell_type": "code",
      "execution_count": null,
      "metadata": {
        "colab": {
          "base_uri": "https://localhost:8080/"
        },
        "id": "z8wxyW2Cv3gC",
        "outputId": "357922e1-847a-4b97-a939-a2bea23089c8"
      },
      "outputs": [
        {
          "name": "stdout",
          "output_type": "stream",
          "text": [
            "result 30\n"
          ]
        }
      ],
      "source": [
        "maria(5,6)"
      ]
    },
    {
      "cell_type": "code",
      "execution_count": null,
      "metadata": {
        "colab": {
          "background_save": true
        },
        "id": "r4eJfHFDwK8a",
        "outputId": "575f548d-f2b8-4e27-cd30-c50970f7ef33"
      },
      "outputs": [
        {
          "ename": "IndentationError",
          "evalue": "ignored",
          "output_type": "error",
          "traceback": [
            "\u001b[0;36m  File \u001b[0;32m\"<ipython-input-10-b902115ec2cd>\"\u001b[0;36m, line \u001b[0;32m6\u001b[0m\n\u001b[0;31m    print(\"you are not taxable\")\u001b[0m\n\u001b[0m        ^\u001b[0m\n\u001b[0;31mIndentationError\u001b[0m\u001b[0;31m:\u001b[0m expected an indented block\n"
          ]
        }
      ],
      "source": [
        "X=input(\"enter a salary\")\n",
        "def salary(x):\n",
        "  if salary>250000:\n",
        "    print(\"you are taxable\")\n",
        "  else \n",
        "  print(\"\")"
      ]
    }
  ],
  "metadata": {
    "colab": {
      "provenance": [],
      "authorship_tag": "ABX9TyNUXFbENfFHdXTuoPzhWBrH",
      "include_colab_link": true
    },
    "kernelspec": {
      "display_name": "Python 3",
      "name": "python3"
    },
    "language_info": {
      "name": "python"
    }
  },
  "nbformat": 4,
  "nbformat_minor": 0
}