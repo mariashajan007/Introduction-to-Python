{
  "nbformat": 4,
  "nbformat_minor": 0,
  "metadata": {
    "colab": {
      "provenance": [],
      "authorship_tag": "ABX9TyOHblYIKWEaL8Xz8V3r3Sdb",
      "include_colab_link": true
    },
    "kernelspec": {
      "name": "python3",
      "display_name": "Python 3"
    },
    "language_info": {
      "name": "python"
    }
  },
  "cells": [
    {
      "cell_type": "markdown",
      "metadata": {
        "id": "view-in-github",
        "colab_type": "text"
      },
      "source": [
        "<a href=\"https://colab.research.google.com/github/mariashajan007/Introduction-to-Python/blob/main/Untitled4.ipynb\" target=\"_parent\"><img src=\"https://colab.research.google.com/assets/colab-badge.svg\" alt=\"Open In Colab\"/></a>"
      ]
    },
    {
      "cell_type": "code",
      "execution_count": 2,
      "metadata": {
        "id": "2yaJ7H6TvCRu"
      },
      "outputs": [],
      "source": [
        "def maria(x,y):\n",
        "   z=x+y\n",
        "   print(\"result=\",z)"
      ]
    },
    {
      "cell_type": "code",
      "source": [
        "maria(5,6)"
      ],
      "metadata": {
        "colab": {
          "base_uri": "https://localhost:8080/"
        },
        "id": "XRrFue8vvdxn",
        "outputId": "689ac70c-1f5b-4fa1-f550-e8094e94ecfc"
      },
      "execution_count": 3,
      "outputs": [
        {
          "output_type": "stream",
          "name": "stdout",
          "text": [
            "result= 11\n"
          ]
        }
      ]
    },
    {
      "cell_type": "code",
      "source": [
        "def maria(x,y):\n",
        "  f=x*y\n",
        "  print(\"result\",f)"
      ],
      "metadata": {
        "id": "PoO1aVwZvmoa"
      },
      "execution_count": 7,
      "outputs": []
    },
    {
      "cell_type": "code",
      "source": [
        "maria(5,6)"
      ],
      "metadata": {
        "colab": {
          "base_uri": "https://localhost:8080/"
        },
        "id": "z8wxyW2Cv3gC",
        "outputId": "357922e1-847a-4b97-a939-a2bea23089c8"
      },
      "execution_count": 8,
      "outputs": [
        {
          "output_type": "stream",
          "name": "stdout",
          "text": [
            "result 30\n"
          ]
        }
      ]
    },
    {
      "cell_type": "code",
      "source": [
        "def maria(salary):\n",
        "  if salary>250000:\n",
        "    print(\"you are taxable\")\n",
        "  if salary<250000:\n",
        "    print(\"you are not taxable\")"
      ],
      "metadata": {
        "id": "r4eJfHFDwK8a"
      },
      "execution_count": 20,
      "outputs": []
    },
    {
      "cell_type": "code",
      "source": [
        "x=int(input(\"enter a salary\"))\n",
        "maria(x)"
      ],
      "metadata": {
        "colab": {
          "base_uri": "https://localhost:8080/"
        },
        "id": "2xxs4zMCxWmu",
        "outputId": "92bb850a-583b-405d-acca-923f0c30dd2a"
      },
      "execution_count": 22,
      "outputs": [
        {
          "output_type": "stream",
          "name": "stdout",
          "text": [
            "enter a salary300000\n",
            "you are taxable\n"
          ]
        }
      ]
    },
    {
      "cell_type": "code",
      "source": [
        "def maria(p): \n",
        "  k=0\n",
        "  for a in range(1,p):\n",
        "    k=k+a\n",
        "  print(k)"
      ],
      "metadata": {
        "id": "qehArlq7y77L"
      },
      "execution_count": 37,
      "outputs": []
    },
    {
      "cell_type": "code",
      "source": [
        "maria(50)"
      ],
      "metadata": {
        "id": "Gi7GT0SD195t",
        "outputId": "145329bf-967b-423d-b2b7-bb0e0c095920",
        "colab": {
          "base_uri": "https://localhost:8080/"
        }
      },
      "execution_count": 38,
      "outputs": [
        {
          "output_type": "stream",
          "name": "stdout",
          "text": [
            "1225\n"
          ]
        }
      ]
    },
    {
      "cell_type": "code",
      "source": [
        "def add(x,y):\n",
        "  print(x+y)\n",
        "def sub(x,y):\n",
        "  print(x-y)"
      ],
      "metadata": {
        "id": "s8dtcote2E4V"
      },
      "execution_count": 39,
      "outputs": []
    },
    {
      "cell_type": "code",
      "source": [
        "x=int(input(\"enter a number\"))\n",
        "y=int(input(\"enter a number\"))\n",
        "add(x,y)"
      ],
      "metadata": {
        "id": "5bqjdnKy933d",
        "outputId": "552db5ff-d6cf-4e76-ea78-dd40f77b9670",
        "colab": {
          "base_uri": "https://localhost:8080/"
        }
      },
      "execution_count": 41,
      "outputs": [
        {
          "output_type": "stream",
          "name": "stdout",
          "text": [
            "enter a number10\n",
            "enter a number30\n",
            "40\n"
          ]
        }
      ]
    },
    {
      "cell_type": "code",
      "source": [],
      "metadata": {
        "id": "_IkSyv3H-AtQ"
      },
      "execution_count": null,
      "outputs": []
    }
  ]
}