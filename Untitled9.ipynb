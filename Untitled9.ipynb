{
  "nbformat": 4,
  "nbformat_minor": 0,
  "metadata": {
    "colab": {
      "provenance": [],
      "authorship_tag": "ABX9TyNVBTbNXdE25v/GAxqdnmYh",
      "include_colab_link": true
    },
    "kernelspec": {
      "name": "python3",
      "display_name": "Python 3"
    },
    "language_info": {
      "name": "python"
    }
  },
  "cells": [
    {
      "cell_type": "markdown",
      "metadata": {
        "id": "view-in-github",
        "colab_type": "text"
      },
      "source": [
        "<a href=\"https://colab.research.google.com/github/mariashajan007/Introduction-to-Python/blob/main/Untitled9.ipynb\" target=\"_parent\"><img src=\"https://colab.research.google.com/assets/colab-badge.svg\" alt=\"Open In Colab\"/></a>"
      ]
    },
    {
      "cell_type": "code",
      "execution_count": 3,
      "metadata": {
        "colab": {
          "base_uri": "https://localhost:8080/"
        },
        "id": "QZpDzfYehEvD",
        "outputId": "0ea51ed0-e856-400c-d900-c41f0b5a95f3"
      },
      "outputs": [
        {
          "output_type": "stream",
          "name": "stdout",
          "text": [
            "enter a number-10\n",
            "10\n"
          ]
        }
      ],
      "source": [
        "x=int(input(\"enter a number\"))\n",
        "if x<0:\n",
        "  print(x*-1)\n",
        "else:\n",
        "  print(x)"
      ]
    },
    {
      "cell_type": "code",
      "source": [
        "x=int(input(\"enter the marks\"))\n",
        "if x<25:\n",
        "  print(\"f\")\n",
        "elif x<25 and x<45:\n",
        "   print(\"e\")\n",
        "elif x>45 and x<50:\n",
        "    print(\"d\")\n",
        "elif x>50 and x<60:\n",
        "    print(\"c\")\n",
        "elif x>60 and x<80:\n",
        "   print(\"b\")\n",
        "else:\n",
        "  print(\"a\")\n"
      ],
      "metadata": {
        "colab": {
          "base_uri": "https://localhost:8080/"
        },
        "id": "aTy10Vh0jmNR",
        "outputId": "861f41aa-3e2b-47d6-ac2d-caa47848e1a0"
      },
      "execution_count": 8,
      "outputs": [
        {
          "output_type": "stream",
          "name": "stdout",
          "text": [
            "enter the marks90\n",
            "a\n"
          ]
        }
      ]
    },
    {
      "cell_type": "code",
      "source": [
        "x=int(input(\"no of classes attended\"))\n",
        "y=int(input(\"no of classes held\"))\n",
        "z=x/y*100\n",
        "if z>75:\n",
        "  print(\"you are allowed to sit\")\n",
        "else:\n",
        "  print(\"you are not allowed\")"
      ],
      "metadata": {
        "colab": {
          "base_uri": "https://localhost:8080/"
        },
        "id": "ygPkk2McnJdx",
        "outputId": "ea5c2f87-dcdb-4e8c-f169-82103cc713e2"
      },
      "execution_count": 10,
      "outputs": [
        {
          "output_type": "stream",
          "name": "stdout",
          "text": [
            "no of classes attended80\n",
            "no of classes held100\n",
            "you are allowed to sit\n"
          ]
        }
      ]
    },
    {
      "cell_type": "code",
      "source": [
        "print(\"1.addition\")\n",
        "print(\"2.substraction\")\n",
        "print(\"3.division\")\n",
        "print(\"4.multiplication\")\n",
        "print(\"5.modulus\")\n",
        "print(\"6.floor division\")\n",
        "print(\"7.exponent\")\n",
        "\n",
        "z=int(input(\"enter a number\"))\n",
        "x=int(input(\"first number\"))\n",
        "y=int(input(\"second number\"))\n",
        "if z==1:\n",
        "  print(x+y)\n",
        "if z==2:\n",
        "  print(x-y)\n",
        "if z==3:\n",
        "  print(x/y)\n",
        "if z==4:\n",
        "  print(x*y)\n",
        "if z==5:\n",
        "  print(x%y)\n",
        "if z==6:\n",
        "  print(x//y)\n",
        "if z==7:\n",
        "  print(x**y)\n",
        "\n"
      ],
      "metadata": {
        "colab": {
          "base_uri": "https://localhost:8080/"
        },
        "id": "7bT1s44mpID9",
        "outputId": "43102b59-4385-48d9-8ac4-861d2150c489"
      },
      "execution_count": 27,
      "outputs": [
        {
          "output_type": "stream",
          "name": "stdout",
          "text": [
            "1.addition\n",
            "2.substraction\n",
            "3.division\n",
            "4.multiplication\n",
            "5.modulus\n",
            "6.floor division\n",
            "7.exponent\n",
            "enter a number1\n",
            "first number10\n",
            "second number10\n",
            "20\n"
          ]
        }
      ]
    },
    {
      "cell_type": "code",
      "source": [
        "\n"
      ],
      "metadata": {
        "id": "1FzzUWD8xuwX"
      },
      "execution_count": 28,
      "outputs": []
    },
    {
      "cell_type": "code",
      "source": [
        "\n"
      ],
      "metadata": {
        "id": "_HbPUYnlsP2u"
      },
      "execution_count": 24,
      "outputs": []
    },
    {
      "cell_type": "code",
      "source": [
        "m1=int(input('Enter marks of first subject '))\n",
        "m2=int(input('Enter marks of second subject '))\n",
        "m3=int(input('Enter marks of third subject '))\n",
        "m4=int(input('Enter marks of fourth subject '))\n",
        "m5=int(input('Enter marks of fifth subject '))\n",
        "print('Least marks:',min(m1,m2,m3,m4,m5))\n",
        "print('Maximum marks:',max(m1,m2,m3,m4,m5))"
      ],
      "metadata": {
        "colab": {
          "base_uri": "https://localhost:8080/"
        },
        "id": "TbLwKgLrtTIT",
        "outputId": "6b89e34f-b3b1-40e1-f6da-818971ab4757"
      },
      "execution_count": 28,
      "outputs": [
        {
          "output_type": "stream",
          "name": "stdout",
          "text": [
            "Enter marks of first subject 30\n",
            "Enter marks of second subject 40\n",
            "Enter marks of third subject 0\n",
            "Enter marks of fourth subject 50\n",
            "Enter marks of fifth subject 60\n",
            "Least marks: 0\n",
            "Maximum marks: 60\n"
          ]
        }
      ]
    },
    {
      "cell_type": "code",
      "source": [
        "x=input(\"enter a name\")\n",
        "if x.isupper():\n",
        "  print(x.lower())\n",
        "if x.islower():\n",
        "  print(x.upper())\n",
        "len(x)\n",
        "  "
      ],
      "metadata": {
        "colab": {
          "base_uri": "https://localhost:8080/"
        },
        "id": "NuTuJ3Ad1A_8",
        "outputId": "2a95543a-f1ea-461f-ed90-d7c880acf869"
      },
      "execution_count": 29,
      "outputs": [
        {
          "name": "stdout",
          "output_type": "stream",
          "text": [
            "enter a nameMaria \n"
          ]
        },
        {
          "output_type": "execute_result",
          "data": {
            "text/plain": [
              "6"
            ]
          },
          "metadata": {},
          "execution_count": 29
        }
      ]
    },
    {
      "cell_type": "code",
      "source": [
        "int(input('Enter marks of first subject '))\n",
        "x2=int(input('Enter marks of second subject '))\n",
        "x3=int(input('Enter marks of third subject '))\n",
        "x4=int(input('Enter marks of fourth subject '))\n",
        "x5=int(input('Enter marks of fifth subject '))\n",
        "m=(x1+x2+x3+x4+x5)\n",
        "print(m/5)"
      ],
      "metadata": {
        "colab": {
          "base_uri": "https://localhost:8080/",
          "height": 317
        },
        "id": "MleJmC5d1AA0",
        "outputId": "d7074c30-147a-40a2-b3b2-7880b1baf687"
      },
      "execution_count": 30,
      "outputs": [
        {
          "name": "stdout",
          "output_type": "stream",
          "text": [
            "Enter marks of first subject 50\n",
            "Enter marks of second subject 40\n",
            "Enter marks of third subject 30\n",
            "Enter marks of fourth subject 40\n",
            "Enter marks of fifth subject 60\n"
          ]
        },
        {
          "output_type": "error",
          "ename": "NameError",
          "evalue": "ignored",
          "traceback": [
            "\u001b[0;31m---------------------------------------------------------------------------\u001b[0m",
            "\u001b[0;31mNameError\u001b[0m                                 Traceback (most recent call last)",
            "\u001b[0;32m<ipython-input-30-1b40d2cc505e>\u001b[0m in \u001b[0;36m<module>\u001b[0;34m\u001b[0m\n\u001b[1;32m      4\u001b[0m \u001b[0mx4\u001b[0m\u001b[0;34m=\u001b[0m\u001b[0mint\u001b[0m\u001b[0;34m(\u001b[0m\u001b[0minput\u001b[0m\u001b[0;34m(\u001b[0m\u001b[0;34m'Enter marks of fourth subject '\u001b[0m\u001b[0;34m)\u001b[0m\u001b[0;34m)\u001b[0m\u001b[0;34m\u001b[0m\u001b[0;34m\u001b[0m\u001b[0m\n\u001b[1;32m      5\u001b[0m \u001b[0mx5\u001b[0m\u001b[0;34m=\u001b[0m\u001b[0mint\u001b[0m\u001b[0;34m(\u001b[0m\u001b[0minput\u001b[0m\u001b[0;34m(\u001b[0m\u001b[0;34m'Enter marks of fifth subject '\u001b[0m\u001b[0;34m)\u001b[0m\u001b[0;34m)\u001b[0m\u001b[0;34m\u001b[0m\u001b[0;34m\u001b[0m\u001b[0m\n\u001b[0;32m----> 6\u001b[0;31m \u001b[0mm\u001b[0m\u001b[0;34m=\u001b[0m\u001b[0;34m(\u001b[0m\u001b[0mx1\u001b[0m\u001b[0;34m+\u001b[0m\u001b[0mx2\u001b[0m\u001b[0;34m+\u001b[0m\u001b[0mx3\u001b[0m\u001b[0;34m+\u001b[0m\u001b[0mx4\u001b[0m\u001b[0;34m+\u001b[0m\u001b[0mx5\u001b[0m\u001b[0;34m)\u001b[0m\u001b[0;34m\u001b[0m\u001b[0;34m\u001b[0m\u001b[0m\n\u001b[0m\u001b[1;32m      7\u001b[0m \u001b[0mprint\u001b[0m\u001b[0;34m(\u001b[0m\u001b[0mm\u001b[0m\u001b[0;34m/\u001b[0m\u001b[0;36m5\u001b[0m\u001b[0;34m)\u001b[0m\u001b[0;34m\u001b[0m\u001b[0;34m\u001b[0m\u001b[0m\n",
            "\u001b[0;31mNameError\u001b[0m: name 'x1' is not defined"
          ]
        }
      ]
    },
    {
      "cell_type": "code",
      "source": [],
      "metadata": {
        "id": "Q-RF8Bsh09S8"
      },
      "execution_count": null,
      "outputs": []
    },
    {
      "cell_type": "code",
      "source": [],
      "metadata": {
        "id": "VGfgWAvU07d1"
      },
      "execution_count": null,
      "outputs": []
    }
  ]
}