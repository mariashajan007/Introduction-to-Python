{
  "nbformat": 4,
  "nbformat_minor": 0,
  "metadata": {
    "colab": {
      "provenance": [],
      "authorship_tag": "ABX9TyOD6rkYMWMH040+4NKP/sI2",
      "include_colab_link": true
    },
    "kernelspec": {
      "name": "python3",
      "display_name": "Python 3"
    },
    "language_info": {
      "name": "python"
    }
  },
  "cells": [
    {
      "cell_type": "markdown",
      "metadata": {
        "id": "view-in-github",
        "colab_type": "text"
      },
      "source": [
        "<a href=\"https://colab.research.google.com/github/mariashajan007/Introduction-to-Python/blob/main/Untitled11.ipynb\" target=\"_parent\"><img src=\"https://colab.research.google.com/assets/colab-badge.svg\" alt=\"Open In Colab\"/></a>"
      ]
    },
    {
      "cell_type": "code",
      "execution_count": 2,
      "metadata": {
        "colab": {
          "base_uri": "https://localhost:8080/"
        },
        "id": "LzljoOCI07wR",
        "outputId": "99ff720a-64be-46fe-9a09-769bfcff55fb"
      },
      "outputs": [
        {
          "output_type": "stream",
          "name": "stdout",
          "text": [
            "Enter a number 10\n",
            "1 x 10 = 10\n",
            "2 x 10 = 20\n",
            "3 x 10 = 30\n",
            "4 x 10 = 40\n",
            "5 x 10 = 50\n",
            "6 x 10 = 60\n",
            "7 x 10 = 70\n",
            "8 x 10 = 80\n",
            "9 x 10 = 90\n",
            "10 x 10 = 100\n"
          ]
        }
      ],
      "source": [
        "n=int(input('Enter a number '))\n",
        "for i in range(1,11):\n",
        "  print(i,'x',n,'=',i*n)"
      ]
    },
    {
      "cell_type": "code",
      "source": [
        "n=int(input('Enter a number '))\n",
        "a=1\n",
        "while a<=10:\n",
        "  print(a,'x',n,'=',a*n)\n",
        "  a=a+1"
      ],
      "metadata": {
        "colab": {
          "base_uri": "https://localhost:8080/"
        },
        "id": "hCzA2xnr2OU5",
        "outputId": "22087420-6808-4163-d1be-f67c50d630e0"
      },
      "execution_count": 3,
      "outputs": [
        {
          "output_type": "stream",
          "name": "stdout",
          "text": [
            "Enter a number 10\n",
            "1 x 10 = 10\n",
            "2 x 10 = 20\n",
            "3 x 10 = 30\n",
            "4 x 10 = 40\n",
            "5 x 10 = 50\n",
            "6 x 10 = 60\n",
            "7 x 10 = 70\n",
            "8 x 10 = 80\n",
            "9 x 10 = 90\n",
            "10 x 10 = 100\n"
          ]
        }
      ]
    },
    {
      "cell_type": "code",
      "source": [
        "x=input(\"enter a number\")\n",
        "d=0\n",
        "for i in x:\n",
        "  #print(i)\n",
        "  d=d+1\n",
        "print(d)"
      ],
      "metadata": {
        "colab": {
          "base_uri": "https://localhost:8080/"
        },
        "id": "lYrd-HTC2hLm",
        "outputId": "a0233f19-44dd-48de-8d11-a9d3055ab7cf"
      },
      "execution_count": 8,
      "outputs": [
        {
          "output_type": "stream",
          "name": "stdout",
          "text": [
            "enter a number400\n",
            "3\n"
          ]
        }
      ]
    },
    {
      "cell_type": "code",
      "source": [
        "x=input(\"enter a name\")\n",
        "if x.isupper():\n",
        "  print(x.lower())\n",
        "if x.islower():\n",
        "  print(x.upper())\n",
        "len(x)"
      ],
      "metadata": {
        "colab": {
          "base_uri": "https://localhost:8080/"
        },
        "id": "UvwXPwTx37i0",
        "outputId": "7c25f308-4a51-4874-843a-dfe2d1cd988c"
      },
      "execution_count": 10,
      "outputs": [
        {
          "output_type": "stream",
          "name": "stdout",
          "text": [
            "enter a namek\n",
            "K\n"
          ]
        },
        {
          "output_type": "execute_result",
          "data": {
            "text/plain": [
              "1"
            ]
          },
          "metadata": {},
          "execution_count": 10
        }
      ]
    },
    {
      "cell_type": "code",
      "source": [
        "x=input(\"enter a name\")\n",
        "x=x.replace('a','k')\n",
        "print(x)"
      ],
      "metadata": {
        "colab": {
          "base_uri": "https://localhost:8080/"
        },
        "id": "ZZ-hLJkb8Ltd",
        "outputId": "a3e89d8c-6a48-413f-b639-0800d9b408fa"
      },
      "execution_count": 12,
      "outputs": [
        {
          "output_type": "stream",
          "name": "stdout",
          "text": [
            "enter a namemaria shajan\n",
            "mkrik shkjkn\n"
          ]
        }
      ]
    },
    {
      "cell_type": "code",
      "source": [
        "m1=['bangladesh','india','nepal','pakistan','usa']\n",
        "print (m1)\n",
        "m1.append('france')\n",
        "print(m1)\n",
        "m1.remove(\"pakistan\")\n",
        "print(m1)\n",
        "m1.reverse()\n",
        "print(m1)\n",
        "m1.append('canada')\n",
        "print(m1)\n",
        "len(m1)"
      ],
      "metadata": {
        "colab": {
          "base_uri": "https://localhost:8080/"
        },
        "id": "dPxv5FfF9cbg",
        "outputId": "3c540f90-e8a9-456a-d442-47cdf4b3c3f8"
      },
      "execution_count": 13,
      "outputs": [
        {
          "output_type": "stream",
          "name": "stdout",
          "text": [
            "['bangladesh', 'india', 'nepal', 'pakistan', 'usa']\n",
            "['bangladesh', 'india', 'nepal', 'pakistan', 'usa', 'france']\n",
            "['bangladesh', 'india', 'nepal', 'usa', 'france']\n",
            "['france', 'usa', 'nepal', 'india', 'bangladesh']\n",
            "['france', 'usa', 'nepal', 'india', 'bangladesh', 'canada']\n"
          ]
        },
        {
          "output_type": "execute_result",
          "data": {
            "text/plain": [
              "6"
            ]
          },
          "metadata": {},
          "execution_count": 13
        }
      ]
    },
    {
      "cell_type": "code",
      "source": [],
      "metadata": {
        "id": "RfKQCJWZCh73"
      },
      "execution_count": null,
      "outputs": []
    }
  ]
}