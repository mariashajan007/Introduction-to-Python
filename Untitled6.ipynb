{
  "nbformat": 4,
  "nbformat_minor": 0,
  "metadata": {
    "colab": {
      "provenance": [],
      "authorship_tag": "ABX9TyPS1Z2NUfY5zayJYRqePfo9",
      "include_colab_link": true
    },
    "kernelspec": {
      "name": "python3",
      "display_name": "Python 3"
    },
    "language_info": {
      "name": "python"
    }
  },
  "cells": [
    {
      "cell_type": "markdown",
      "metadata": {
        "id": "view-in-github",
        "colab_type": "text"
      },
      "source": [
        "<a href=\"https://colab.research.google.com/github/mariashajan007/Introduction-to-Python/blob/main/Untitled6.ipynb\" target=\"_parent\"><img src=\"https://colab.research.google.com/assets/colab-badge.svg\" alt=\"Open In Colab\"/></a>"
      ]
    },
    {
      "cell_type": "code",
      "execution_count": null,
      "metadata": {
        "colab": {
          "base_uri": "https://localhost:8080/"
        },
        "id": "DYGWws25obKd",
        "outputId": "6aafa467-bfc9-4225-ddf3-8d24f9861c88"
      },
      "outputs": [
        {
          "output_type": "stream",
          "name": "stdout",
          "text": [
            "enter the first number30\n",
            "enter the second number40\n",
            "y is the greatest\n"
          ]
        }
      ],
      "source": [
        "x=int(input(\"enter the first number\"))\n",
        "y=int(input(\"enter the second number\"))\n",
        "if x>y:\n",
        "  print(\"x is the greatest\")\n",
        "else:\n",
        "  print(\"y is the greatest\")"
      ]
    },
    {
      "cell_type": "code",
      "source": [
        "x=input(\"your name:\")\n",
        "y=input(\"your number:\")"
      ],
      "metadata": {
        "colab": {
          "base_uri": "https://localhost:8080/"
        },
        "id": "IhA-MGNyo3eK",
        "outputId": "d5636dd2-2d4a-4dc5-b1cc-4412b3dca261"
      },
      "execution_count": null,
      "outputs": [
        {
          "name": "stdout",
          "output_type": "stream",
          "text": [
            "your name:maria\n",
            "your number:8089870494\n"
          ]
        }
      ]
    },
    {
      "cell_type": "code",
      "source": [
        "x=int(input(\"first number\"))\n",
        "y=int(input(\"second number\"))\n",
        "z=int(input(\"third number\"))\n",
        "if x>y & z<x:\n",
        "  print(\"x is the greatest\")\n",
        "if y>x & z>y:\n",
        "  print(\"y is the greatest\")\n",
        "else:\n",
        "  print(\"z is the greatest\")\n"
      ],
      "metadata": {
        "colab": {
          "base_uri": "https://localhost:8080/"
        },
        "id": "AOI-oPuypLuG",
        "outputId": "4f8ccc49-0ba9-4797-a039-a70f537e8a50"
      },
      "execution_count": null,
      "outputs": [
        {
          "output_type": "stream",
          "name": "stdout",
          "text": [
            "first number30\n",
            "second number40\n",
            "third number50\n",
            "z is the greatest\n"
          ]
        }
      ]
    },
    {
      "cell_type": "code",
      "source": [
        "from traitlets.traitlets import Integer\n",
        "x=int(input(\"number\"))\n",
        "if x%2==0:\n",
        "   print(\"even number\")\n",
        "else:\n",
        "  print(\"odd number\")"
      ],
      "metadata": {
        "colab": {
          "base_uri": "https://localhost:8080/"
        },
        "id": "XAdeNV11qYU8",
        "outputId": "2a4670b8-30cf-4fc6-a4a4-0bba864af9fb"
      },
      "execution_count": null,
      "outputs": [
        {
          "output_type": "stream",
          "name": "stdout",
          "text": [
            "number11\n",
            "odd number\n"
          ]
        }
      ]
    },
    {
      "cell_type": "code",
      "source": [
        "for a in range(1,11):\n",
        "  print(a)"
      ],
      "metadata": {
        "colab": {
          "base_uri": "https://localhost:8080/"
        },
        "id": "9DL3xbtetd45",
        "outputId": "9bc6ba0a-65ca-4e3b-aa5b-12edab912abf"
      },
      "execution_count": null,
      "outputs": [
        {
          "output_type": "stream",
          "name": "stdout",
          "text": [
            "1\n",
            "2\n",
            "3\n",
            "4\n",
            "5\n",
            "6\n",
            "7\n",
            "8\n",
            "9\n",
            "10\n"
          ]
        }
      ]
    },
    {
      "cell_type": "code",
      "source": [
        "a=0\n",
        "for a in range(1,11):\n",
        "  a%2==0\n",
        "  print(a)"
      ],
      "metadata": {
        "colab": {
          "base_uri": "https://localhost:8080/"
        },
        "id": "RjinfS1y0ByV",
        "outputId": "52eec0f4-ab46-436c-baca-e1e20d773c57"
      },
      "execution_count": null,
      "outputs": [
        {
          "output_type": "stream",
          "name": "stdout",
          "text": [
            "1\n",
            "2\n",
            "3\n",
            "4\n",
            "5\n",
            "6\n",
            "7\n",
            "8\n",
            "9\n",
            "10\n"
          ]
        }
      ]
    },
    {
      "cell_type": "code",
      "source": [],
      "metadata": {
        "id": "C23GL1C50XVF"
      },
      "execution_count": null,
      "outputs": []
    }
  ]
}