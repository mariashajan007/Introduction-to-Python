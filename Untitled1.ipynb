{
  "nbformat": 4,
  "nbformat_minor": 0,
  "metadata": {
    "colab": {
      "provenance": [],
      "collapsed_sections": [],
      "authorship_tag": "ABX9TyOz616bcYeOFYo4UCNBjSRP",
      "include_colab_link": true
    },
    "kernelspec": {
      "name": "python3",
      "display_name": "Python 3"
    },
    "language_info": {
      "name": "python"
    }
  },
  "cells": [
    {
      "cell_type": "markdown",
      "metadata": {
        "id": "view-in-github",
        "colab_type": "text"
      },
      "source": [
        "<a href=\"https://colab.research.google.com/github/mariashajan007/Introduction-to-Python/blob/main/Untitled1.ipynb\" target=\"_parent\"><img src=\"https://colab.research.google.com/assets/colab-badge.svg\" alt=\"Open In Colab\"/></a>"
      ]
    },
    {
      "cell_type": "code",
      "execution_count": null,
      "metadata": {
        "colab": {
          "base_uri": "https://localhost:8080/"
        },
        "id": "FhdXwznGed6v",
        "outputId": "ad1a68b6-b8dd-4c24-bd10-0940aec981bd"
      },
      "outputs": [
        {
          "output_type": "stream",
          "name": "stdout",
          "text": [
            "enter marks80\n",
            "you are passed\n"
          ]
        }
      ],
      "source": [
        "mark=int(input(\"enter marks\"))\n",
        "if mark>50:\n",
        "  print(\"you are passed\")\n",
        "if mark<50:\n",
        "  print(\"you are failed\")\n",
        "\n",
        "  "
      ]
    },
    {
      "cell_type": "code",
      "source": [],
      "metadata": {
        "id": "5HRCBbmqjo74"
      },
      "execution_count": null,
      "outputs": []
    },
    {
      "cell_type": "code",
      "source": [
        "mark=int(input(\"enter marks\"))\n",
        "if mark>50:\n",
        "  print(\"you are passed\")\n",
        "elif mark==50:\n",
        "  print(\"just pass\")\n",
        "if mark<50:\n",
        "  print(\"you are failed\")"
      ],
      "metadata": {
        "colab": {
          "base_uri": "https://localhost:8080/"
        },
        "id": "V0pEHXi9h3tf",
        "outputId": "49604d50-29c7-479a-f5db-895e8ae6bb23"
      },
      "execution_count": null,
      "outputs": [
        {
          "output_type": "stream",
          "name": "stdout",
          "text": [
            "enter marks50\n",
            "just pass\n"
          ]
        }
      ]
    },
    {
      "cell_type": "code",
      "source": [
        "salary=int(input(\"enter salary\"))\n",
        "if salary>=250000:\n",
        "   print(\"you are taxable\")\n",
        "   x=salary-250000\n",
        "   print(\"tax\",x*10/100)\n",
        "elif salary<250000:\n",
        "     print(\"you are not taxable\")\n",
        "   "
      ],
      "metadata": {
        "colab": {
          "base_uri": "https://localhost:8080/"
        },
        "id": "jDphSXXKlyym",
        "outputId": "121dc002-9301-4444-c3b7-38f3b48901b1"
      },
      "execution_count": null,
      "outputs": [
        {
          "output_type": "stream",
          "name": "stdout",
          "text": [
            "enter salary300000\n",
            "you are taxable\n",
            "tax 5000.0\n"
          ]
        }
      ]
    },
    {
      "cell_type": "code",
      "source": [
        "salary=int(input(\"enter salary\"))\n",
        "if salary>=250000 and salary<500000:\n",
        "   print(\"you are taxable\")\n",
        "   x=salary-250000\n",
        "   t=salary*10/100\n",
        "   print('TAX',t)\n",
        "elif salary>500000:\n",
        "     print(\"you are taxable\")\n",
        "     t=salary*20/100\n",
        "     print('TAX',t)\n",
        "elif salary<250000:\n",
        "     print(\"you are not taxable\")"
      ],
      "metadata": {
        "colab": {
          "base_uri": "https://localhost:8080/"
        },
        "id": "rkMaO71mkLtg",
        "outputId": "9c0d4ca7-6f39-4820-a405-56a89055951b"
      },
      "execution_count": null,
      "outputs": [
        {
          "output_type": "stream",
          "name": "stdout",
          "text": [
            "enter salary700000\n",
            "you are taxable\n",
            "TAX 140000.0\n"
          ]
        }
      ]
    },
    {
      "cell_type": "code",
      "source": [
        "hra=int(input())\n",
        "salary=int(input())\n",
        "if hra> salary*60/100\n",
        "   if salary<250000:\n",
        "  print(\"you are not taxable\")\n",
        "   if 250000<salary<500000:\n",
        "  print(\"tax=\", (salary-250000)*10/100)\n",
        "if 500000<salary<750000:\n",
        "  print(\"tax\",(salary-250000)*10/100+(salary-500000)*20/100)\n",
        "if salary>750000:\n",
        "  print(\"tax\",(250000)*10/100+(250000)*20/100+(salary-750000)*30/100+(salary-750000)*2/100)\n",
        "else\n",
        "  print(hra*5/100)\n",
        "  \n",
        "\n",
        "\n"
      ],
      "metadata": {
        "id": "-nBSoHtzsJXO",
        "colab": {
          "base_uri": "https://localhost:8080/",
          "height": 130
        },
        "outputId": "8de244ca-6e8b-4cf8-fa15-4b6463d63794"
      },
      "execution_count": 12,
      "outputs": [
        {
          "output_type": "error",
          "ename": "SyntaxError",
          "evalue": "ignored",
          "traceback": [
            "\u001b[0;36m  File \u001b[0;32m\"<ipython-input-12-cae1fa906834>\"\u001b[0;36m, line \u001b[0;32m3\u001b[0m\n\u001b[0;31m    if hra> salary*60/100\u001b[0m\n\u001b[0m                         ^\u001b[0m\n\u001b[0;31mSyntaxError\u001b[0m\u001b[0;31m:\u001b[0m invalid syntax\n"
          ]
        }
      ]
    },
    {
      "cell_type": "code",
      "source": [],
      "metadata": {
        "id": "DXpNYp6d2TFF"
      },
      "execution_count": 11,
      "outputs": []
    }
  ]
}