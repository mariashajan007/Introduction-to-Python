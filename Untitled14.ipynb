{
  "nbformat": 4,
  "nbformat_minor": 0,
  "metadata": {
    "colab": {
      "provenance": [],
      "authorship_tag": "ABX9TyMFlZ77aBi2lFL2Y4qd2PbS",
      "include_colab_link": true
    },
    "kernelspec": {
      "name": "python3",
      "display_name": "Python 3"
    },
    "language_info": {
      "name": "python"
    }
  },
  "cells": [
    {
      "cell_type": "markdown",
      "metadata": {
        "id": "view-in-github",
        "colab_type": "text"
      },
      "source": [
        "<a href=\"https://colab.research.google.com/github/mariashajan007/Introduction-to-Python/blob/main/Untitled14.ipynb\" target=\"_parent\"><img src=\"https://colab.research.google.com/assets/colab-badge.svg\" alt=\"Open In Colab\"/></a>"
      ]
    },
    {
      "cell_type": "code",
      "execution_count": 2,
      "metadata": {
        "colab": {
          "base_uri": "https://localhost:8080/"
        },
        "id": "0q6WnPjpqnN0",
        "outputId": "3d9aebad-67aa-4052-f080-dd3da46629f8"
      },
      "outputs": [
        {
          "output_type": "stream",
          "name": "stdout",
          "text": [
            "Fifa World Cup\n"
          ]
        }
      ],
      "source": [
        "def fun_name():\n",
        "  print(\"Fifa World Cup\")\n",
        "fun_name()\n",
        "  "
      ]
    },
    {
      "cell_type": "code",
      "source": [
        "def name(a,b,c):\n",
        "  print(a,b,c)\n",
        "\n",
        "name('maria','shajan','ovelil')"
      ],
      "metadata": {
        "colab": {
          "base_uri": "https://localhost:8080/"
        },
        "id": "XUmQJCZ8vv4L",
        "outputId": "306e800f-1b11-46cd-e93c-c0ccdbd9eaf8"
      },
      "execution_count": 7,
      "outputs": [
        {
          "output_type": "stream",
          "name": "stdout",
          "text": [
            "maria shajan ovelil\n"
          ]
        }
      ]
    },
    {
      "cell_type": "code",
      "source": [
        "def name(a,c,b):\n",
        "  print(a,c,b)\n",
        "\n",
        "name(\"maria\",\"ovelil\",\"shajan\")"
      ],
      "metadata": {
        "colab": {
          "base_uri": "https://localhost:8080/"
        },
        "id": "v2_PcD75xzZ4",
        "outputId": "e02d57b9-c01b-489d-cdd7-30807f4abb18"
      },
      "execution_count": 6,
      "outputs": [
        {
          "output_type": "stream",
          "name": "stdout",
          "text": [
            "maria ovelil shajan\n"
          ]
        }
      ]
    },
    {
      "cell_type": "code",
      "source": [
        "def fun_names(*x):\n",
        "  print('the second favorite football player: ',x[1])\n",
        "\n",
        "fun_names('Messi','Ronaldo','Neymar')"
      ],
      "metadata": {
        "colab": {
          "base_uri": "https://localhost:8080/"
        },
        "id": "JinUsualz4UT",
        "outputId": "a53ea012-1f93-4f35-9b4b-09294a94cc94"
      },
      "execution_count": 8,
      "outputs": [
        {
          "output_type": "stream",
          "name": "stdout",
          "text": [
            "the second favorite football player:  Ronaldo\n"
          ]
        }
      ]
    },
    {
      "cell_type": "code",
      "source": [
        "def fun_name( country = \"norway\"):\n",
        "  print(\"i am from\" + country)\n",
        "fun_name(\"sweden\")\n",
        "fun_name(\"india\")\n",
        "fun_name()\n",
        "fun_name(\"brazil\")"
      ],
      "metadata": {
        "colab": {
          "base_uri": "https://localhost:8080/"
        },
        "id": "PhJ_3hI70t0h",
        "outputId": "bc4a2824-ae7d-4828-f0d0-c934b979a126"
      },
      "execution_count": 14,
      "outputs": [
        {
          "output_type": "stream",
          "name": "stdout",
          "text": [
            "i am fromsweden\n",
            "i am fromindia\n",
            "i am fromnorway\n",
            "i am frombrazil\n"
          ]
        }
      ]
    },
    {
      "cell_type": "code",
      "source": [],
      "metadata": {
        "id": "N491WXdY2ZCy"
      },
      "execution_count": null,
      "outputs": []
    }
  ]
}