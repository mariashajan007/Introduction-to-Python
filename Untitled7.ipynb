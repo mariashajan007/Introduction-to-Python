{
  "nbformat": 4,
  "nbformat_minor": 0,
  "metadata": {
    "colab": {
      "provenance": [],
      "authorship_tag": "ABX9TyPzgN+G0onknXa800lY7h+e",
      "include_colab_link": true
    },
    "kernelspec": {
      "name": "python3",
      "display_name": "Python 3"
    },
    "language_info": {
      "name": "python"
    }
  },
  "cells": [
    {
      "cell_type": "markdown",
      "metadata": {
        "id": "view-in-github",
        "colab_type": "text"
      },
      "source": [
        "<a href=\"https://colab.research.google.com/github/mariashajan007/Introduction-to-Python/blob/main/Untitled7.ipynb\" target=\"_parent\"><img src=\"https://colab.research.google.com/assets/colab-badge.svg\" alt=\"Open In Colab\"/></a>"
      ]
    },
    {
      "cell_type": "code",
      "execution_count": 5,
      "metadata": {
        "colab": {
          "base_uri": "https://localhost:8080/"
        },
        "id": "JUBV1EBOojqZ",
        "outputId": "135fff96-6a06-4803-ac6e-413e0d6a4f3d"
      },
      "outputs": [
        {
          "output_type": "stream",
          "name": "stdout",
          "text": [
            "passenger travel source:bus\n",
            "travel destination:manali\n",
            "number of passengers:10\n",
            "bus manali 10\n"
          ]
        }
      ],
      "source": [
        "x=input(\"passenger travel source:\")\n",
        "y=input(\"travel destination:\")\n",
        "z=int(input(\"number of passengers:\"))\n",
        "print(x,y,z)\n"
      ]
    },
    {
      "cell_type": "code",
      "source": [
        "x=int(input(\"total fare:\"))\n",
        "y=int(input(\"number of passengers:\"))\n",
        "print(x/y)"
      ],
      "metadata": {
        "colab": {
          "base_uri": "https://localhost:8080/"
        },
        "id": "EByVVnkLplar",
        "outputId": "f7bfa639-eccf-4cb3-83a9-e73ffed08b07"
      },
      "execution_count": 9,
      "outputs": [
        {
          "output_type": "stream",
          "name": "stdout",
          "text": [
            "total fare:100000\n",
            "number of passengers:30\n",
            "3333.3333333333335\n"
          ]
        }
      ]
    },
    {
      "cell_type": "code",
      "source": [
        "x=input(\"passengers name:\")\n",
        "y=int(input(\"ticket fare\"))\n",
        "print(\"passengers name\" ,x,\"ticket fare\",y)\n"
      ],
      "metadata": {
        "colab": {
          "base_uri": "https://localhost:8080/"
        },
        "id": "DaS-SvYFrLyV",
        "outputId": "65fdd2f9-183d-4417-a511-4e8755337ab1"
      },
      "execution_count": 17,
      "outputs": [
        {
          "output_type": "stream",
          "name": "stdout",
          "text": [
            "passengers name:maria\n",
            "ticket fare33\n",
            "passengers name maria ticket fare 33\n"
          ]
        }
      ]
    },
    {
      "cell_type": "code",
      "source": [
        "x=int(input(\"enter the ticket fare\"))\n",
        "if x>10000:\n",
        "  print(\"eligible gor discount\")\n",
        "else:\n",
        "    print(\"not eligible\")"
      ],
      "metadata": {
        "colab": {
          "base_uri": "https://localhost:8080/"
        },
        "id": "u_T4tHTlrz9d",
        "outputId": "df16f72d-9d10-4025-cc0e-5598efddf32f"
      },
      "execution_count": 23,
      "outputs": [
        {
          "output_type": "stream",
          "name": "stdout",
          "text": [
            "enter the ticket fare11000\n",
            "eligible gor discount\n"
          ]
        }
      ]
    },
    {
      "cell_type": "code",
      "source": [
        "x=int(input(\"enter the ticket fare\"))\n",
        "if x>15000:\n",
        "  print(\"eligible for 20% discount\")\n",
        "else:\n",
        "  print(\"eligible for 10% discount\")"
      ],
      "metadata": {
        "colab": {
          "base_uri": "https://localhost:8080/"
        },
        "id": "HBrxYSDouivx",
        "outputId": "318243c4-df65-49ee-a10b-cb1655bcf2fd"
      },
      "execution_count": 24,
      "outputs": [
        {
          "output_type": "stream",
          "name": "stdout",
          "text": [
            "enter the ticket fare13000\n",
            "eligible for 10% discount\n"
          ]
        }
      ]
    },
    {
      "cell_type": "code",
      "source": [
        "x=int(input(\"ticket fare\"))\n",
        "if x>15000:\n",
        "  i=x*20/100\n",
        "  print(i,\"discount\")\n",
        "if x>=10000:\n",
        "   z=x*20/100\n",
        "   print(z,\"disount\")\n",
        "if x<10000:\n",
        "   y=x*5/100\n",
        "   print(y,\"discount\")\n"
      ],
      "metadata": {
        "colab": {
          "base_uri": "https://localhost:8080/"
        },
        "id": "XpIIcYdWvpus",
        "outputId": "a9d0768a-de5b-4f44-933a-ba250472a416"
      },
      "execution_count": 32,
      "outputs": [
        {
          "output_type": "stream",
          "name": "stdout",
          "text": [
            "ticket fare13000\n",
            "2600.0 disount\n"
          ]
        }
      ]
    },
    {
      "cell_type": "code",
      "source": [
        "x=int(input(\"enter the number\"))\n",
        "if x>0:\n",
        "  print(x,\"number is positive\")\n",
        "elif x==0:\n",
        "  print(x,\"number is zero\")\n",
        "else:\n",
        "  print(x,\"number is negative\")"
      ],
      "metadata": {
        "colab": {
          "base_uri": "https://localhost:8080/"
        },
        "id": "14odsM9qxG74",
        "outputId": "d618f6af-f196-4601-e8db-96d14ac8689b"
      },
      "execution_count": 37,
      "outputs": [
        {
          "output_type": "stream",
          "name": "stdout",
          "text": [
            "enter the number20\n",
            "20 number is positive\n"
          ]
        }
      ]
    },
    {
      "cell_type": "code",
      "source": [
        "x=int(input(\"age of the passenger\"))\n",
        "if x<2:\n",
        "  print(x,\"adult\")\n",
        "if x>13 and x<19:\n",
        "  print(\"teenager\")\n",
        "if x>6 and x<12:\n",
        "  print(\"kid\")\n",
        "if x>2 and x<5:\n",
        "  print(\"toddler\")\n",
        "elif x>18:\n",
        "  print(\"infant\")"
      ],
      "metadata": {
        "colab": {
          "base_uri": "https://localhost:8080/"
        },
        "id": "FoyYybj_0Br0",
        "outputId": "b52df5ff-4d77-4d5d-9378-afbc549eaded"
      },
      "execution_count": 47,
      "outputs": [
        {
          "output_type": "stream",
          "name": "stdout",
          "text": [
            "age of the passenger3\n",
            "toddler\n"
          ]
        }
      ]
    },
    {
      "cell_type": "code",
      "source": [
        "x=input(\"initial letter\")\n",
        "if x==\"a\":\n",
        "  print(\"vowel\")\n",
        "if x==\"e\":\n",
        "  print(\"vowel\")\n",
        "if x==\"i\":\n",
        "  print(\"vowel\")\n",
        "if x==\"0\":\n",
        "  print(\"vowel\")\n",
        "if x==\"u\":\n",
        "  print(\"vowel\")\n",
        "else:\n",
        "  print(\"not a vowel\")"
      ],
      "metadata": {
        "colab": {
          "base_uri": "https://localhost:8080/"
        },
        "id": "nxfJjSw22kCN",
        "outputId": "518d2e2f-1762-4c70-f41e-5f2e02b784e8"
      },
      "execution_count": 50,
      "outputs": [
        {
          "output_type": "stream",
          "name": "stdout",
          "text": [
            "initial letterp\n",
            "not a vowel\n"
          ]
        }
      ]
    },
    {
      "cell_type": "code",
      "source": [
        "x=int(input(\"Enter Starting Value \"))\n",
        "y=int(input(\"Enter Ending Value \"))\n",
        "z=range(x,y) \n",
        "for a in z:\n",
        "  if a%2!=0 :\n",
        "    print(a)"
      ],
      "metadata": {
        "colab": {
          "base_uri": "https://localhost:8080/"
        },
        "id": "6hRnbmKq48kd",
        "outputId": "60041aa5-8aaa-4fa8-ae91-db30c424ebb3"
      },
      "execution_count": 51,
      "outputs": [
        {
          "output_type": "stream",
          "name": "stdout",
          "text": [
            "Enter Starting Value 10\n",
            "Enter Ending Value 20\n",
            "11\n",
            "13\n",
            "15\n",
            "17\n",
            "19\n"
          ]
        }
      ]
    },
    {
      "cell_type": "code",
      "source": [
        "x=input(\"enter your name\")\n",
        "for a in x:\n",
        "  print(a)"
      ],
      "metadata": {
        "colab": {
          "base_uri": "https://localhost:8080/"
        },
        "id": "Wvj8f-aY7nKG",
        "outputId": "57d06005-2320-4941-a57c-db77011278d7"
      },
      "execution_count": 52,
      "outputs": [
        {
          "output_type": "stream",
          "name": "stdout",
          "text": [
            "enter your namemaria \n",
            "m\n",
            "a\n",
            "r\n",
            "i\n",
            "a\n",
            " \n"
          ]
        }
      ]
    },
    {
      "cell_type": "code",
      "source": [],
      "metadata": {
        "id": "e9x0RvPu-MMR"
      },
      "execution_count": null,
      "outputs": []
    }
  ]
}