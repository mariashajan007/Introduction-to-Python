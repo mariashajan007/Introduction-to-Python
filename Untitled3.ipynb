{
  "nbformat": 4,
  "nbformat_minor": 0,
  "metadata": {
    "colab": {
      "provenance": [],
      "authorship_tag": "ABX9TyNKdQMocQV5PJ2KP5vkUNFL",
      "include_colab_link": true
    },
    "kernelspec": {
      "name": "python3",
      "display_name": "Python 3"
    },
    "language_info": {
      "name": "python"
    }
  },
  "cells": [
    {
      "cell_type": "markdown",
      "metadata": {
        "id": "view-in-github",
        "colab_type": "text"
      },
      "source": [
        "<a href=\"https://colab.research.google.com/github/mariashajan007/Introduction-to-Python/blob/main/Untitled3.ipynb\" target=\"_parent\"><img src=\"https://colab.research.google.com/assets/colab-badge.svg\" alt=\"Open In Colab\"/></a>"
      ]
    },
    {
      "cell_type": "code",
      "execution_count": 4,
      "metadata": {
        "colab": {
          "base_uri": "https://localhost:8080/"
        },
        "id": "T03v1aVkiS5m",
        "outputId": "db6bb81f-9c4f-4d39-8d4c-f9c1139e5c44"
      },
      "outputs": [
        {
          "output_type": "stream",
          "name": "stdout",
          "text": [
            "sum of the given list is\n",
            "150\n"
          ]
        }
      ],
      "source": [
        "x=[10,20,30,40,50]\n",
        "k=0\n",
        "for a in x:\n",
        "  k=k+a\n",
        "print(\"sum of the given list is\")\n",
        "print(k)"
      ]
    },
    {
      "cell_type": "code",
      "source": [
        "x=[10,20,30,40,50,30]\n",
        "k=0\n",
        "for a in x:\n",
        " if a!=55:\n",
        "    k=k+a\n",
        "print(k)"
      ],
      "metadata": {
        "colab": {
          "base_uri": "https://localhost:8080/"
        },
        "id": "VcTXBGXWivij",
        "outputId": "1b9dfcf0-bf41-4801-8ee1-ad936aac4706"
      },
      "execution_count": 10,
      "outputs": [
        {
          "output_type": "stream",
          "name": "stdout",
          "text": [
            "180\n"
          ]
        }
      ]
    },
    {
      "cell_type": "code",
      "source": [
        "k=0\n",
        "for a in range(1,101):\n",
        "  k=k+a\n",
        "print(k)"
      ],
      "metadata": {
        "colab": {
          "base_uri": "https://localhost:8080/"
        },
        "id": "0zIkK-jijAfS",
        "outputId": "fd6b03c5-24b7-46f1-a7df-801998f57db6"
      },
      "execution_count": 17,
      "outputs": [
        {
          "output_type": "stream",
          "name": "stdout",
          "text": [
            "5050\n"
          ]
        }
      ]
    },
    {
      "cell_type": "code",
      "source": [
        "a=0\n",
        "while a<10:\n",
        "  print(a)\n",
        "  a=a+1\n",
        "\n",
        " "
      ],
      "metadata": {
        "colab": {
          "base_uri": "https://localhost:8080/"
        },
        "id": "zjEbSBfcpIxT",
        "outputId": "c348beca-2b07-4f1b-a649-0dac51b7859a"
      },
      "execution_count": 24,
      "outputs": [
        {
          "output_type": "stream",
          "name": "stdout",
          "text": [
            "0\n",
            "1\n",
            "2\n",
            "3\n",
            "4\n",
            "5\n",
            "6\n",
            "7\n",
            "8\n",
            "9\n"
          ]
        }
      ]
    },
    {
      "cell_type": "code",
      "source": [
        "a=0\n",
        "k=0\n",
        "while a<101:\n",
        "  k=k+a\n",
        "  a=a+1\n",
        "print(k)\n",
        "\n"
      ],
      "metadata": {
        "colab": {
          "base_uri": "https://localhost:8080/"
        },
        "id": "bVWcp6NEsMJv",
        "outputId": "664743b3-7427-45e7-9e2f-0d3eb3167c85"
      },
      "execution_count": 30,
      "outputs": [
        {
          "output_type": "stream",
          "name": "stdout",
          "text": [
            "5050\n"
          ]
        }
      ]
    },
    {
      "cell_type": "code",
      "source": [
        "a=1\n",
        "k=1\n",
        "while a<101:\n",
        "  k=a*k\n",
        "  a=a+1\n",
        "print(k)"
      ],
      "metadata": {
        "colab": {
          "base_uri": "https://localhost:8080/"
        },
        "id": "bIobcC0LurDU",
        "outputId": "8475ebcf-fc2d-4f02-b329-087ccce5b3ec"
      },
      "execution_count": 32,
      "outputs": [
        {
          "output_type": "stream",
          "name": "stdout",
          "text": [
            "93326215443944152681699238856266700490715968264381621468592963895217599993229915608941463976156518286253697920827223758251185210916864000000000000000000000000\n"
          ]
        }
      ]
    },
    {
      "cell_type": "code",
      "source": [
        "a=0\n",
        "while a<10:\n",
        "  a=a+1\n",
        "  if a==5:\n",
        "    continue;\n",
        "  print(a)\n",
        "   "
      ],
      "metadata": {
        "colab": {
          "base_uri": "https://localhost:8080/"
        },
        "id": "FPwoKlXDz0D5",
        "outputId": "76200786-4862-4396-af61-b33fdd8cad6c"
      },
      "execution_count": 36,
      "outputs": [
        {
          "output_type": "stream",
          "name": "stdout",
          "text": [
            "1\n",
            "2\n",
            "3\n",
            "4\n",
            "6\n",
            "7\n",
            "8\n",
            "9\n",
            "10\n"
          ]
        }
      ]
    },
    {
      "cell_type": "code",
      "source": [],
      "metadata": {
        "id": "Fv52teVS1AsF"
      },
      "execution_count": null,
      "outputs": []
    }
  ]
}